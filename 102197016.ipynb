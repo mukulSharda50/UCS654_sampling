{
 "cells": [
  {
   "cell_type": "code",
   "execution_count": null,
   "metadata": {},
   "outputs": [],
   "source": [
    "'''\n",
    "@author: mukul sharda\n",
    "@subgroup: CS-4\n",
    "@roll-no: 102197016\n",
    "'''"
   ]
  },
  {
   "cell_type": "code",
   "execution_count": 14,
   "metadata": {},
   "outputs": [],
   "source": [
    "import pandas as pd\n",
    "import numpy as np\n",
    "\n",
    "from sklearn.svm import SVC\n",
    "from sklearn.linear_model import LogisticRegression\n",
    "from sklearn.tree import DecisionTreeClassifier\n",
    "from sklearn.naive_bayes import GaussianNB\n",
    "from sklearn.neighbors import KNeighborsClassifier\n",
    "\n",
    "from sklearn.metrics import classification_report, accuracy_score\n",
    "from sklearn.model_selection import train_test_split\n",
    "\n",
    "import scipy.stats as st\n",
    "\n",
    "import warnings\n",
    "warnings.filterwarnings(\"ignore\")"
   ]
  },
  {
   "cell_type": "code",
   "execution_count": 15,
   "metadata": {},
   "outputs": [
    {
     "data": {
      "text/html": [
       "<div>\n",
       "<style scoped>\n",
       "    .dataframe tbody tr th:only-of-type {\n",
       "        vertical-align: middle;\n",
       "    }\n",
       "\n",
       "    .dataframe tbody tr th {\n",
       "        vertical-align: top;\n",
       "    }\n",
       "\n",
       "    .dataframe thead th {\n",
       "        text-align: right;\n",
       "    }\n",
       "</style>\n",
       "<table border=\"1\" class=\"dataframe\">\n",
       "  <thead>\n",
       "    <tr style=\"text-align: right;\">\n",
       "      <th></th>\n",
       "      <th>Time</th>\n",
       "      <th>V1</th>\n",
       "      <th>V2</th>\n",
       "      <th>V3</th>\n",
       "      <th>V4</th>\n",
       "      <th>V5</th>\n",
       "      <th>V6</th>\n",
       "      <th>V7</th>\n",
       "      <th>V8</th>\n",
       "      <th>V9</th>\n",
       "      <th>...</th>\n",
       "      <th>V21</th>\n",
       "      <th>V22</th>\n",
       "      <th>V23</th>\n",
       "      <th>V24</th>\n",
       "      <th>V25</th>\n",
       "      <th>V26</th>\n",
       "      <th>V27</th>\n",
       "      <th>V28</th>\n",
       "      <th>Amount</th>\n",
       "      <th>Class</th>\n",
       "    </tr>\n",
       "  </thead>\n",
       "  <tbody>\n",
       "    <tr>\n",
       "      <th>0</th>\n",
       "      <td>0</td>\n",
       "      <td>-1.359807</td>\n",
       "      <td>-0.072781</td>\n",
       "      <td>2.536347</td>\n",
       "      <td>1.378155</td>\n",
       "      <td>-0.338321</td>\n",
       "      <td>0.462388</td>\n",
       "      <td>0.239599</td>\n",
       "      <td>0.098698</td>\n",
       "      <td>0.363787</td>\n",
       "      <td>...</td>\n",
       "      <td>-0.018307</td>\n",
       "      <td>0.277838</td>\n",
       "      <td>-0.110474</td>\n",
       "      <td>0.066928</td>\n",
       "      <td>0.128539</td>\n",
       "      <td>-0.189115</td>\n",
       "      <td>0.133558</td>\n",
       "      <td>-0.021053</td>\n",
       "      <td>149.62</td>\n",
       "      <td>0</td>\n",
       "    </tr>\n",
       "    <tr>\n",
       "      <th>1</th>\n",
       "      <td>0</td>\n",
       "      <td>1.191857</td>\n",
       "      <td>0.266151</td>\n",
       "      <td>0.166480</td>\n",
       "      <td>0.448154</td>\n",
       "      <td>0.060018</td>\n",
       "      <td>-0.082361</td>\n",
       "      <td>-0.078803</td>\n",
       "      <td>0.085102</td>\n",
       "      <td>-0.255425</td>\n",
       "      <td>...</td>\n",
       "      <td>-0.225775</td>\n",
       "      <td>-0.638672</td>\n",
       "      <td>0.101288</td>\n",
       "      <td>-0.339846</td>\n",
       "      <td>0.167170</td>\n",
       "      <td>0.125895</td>\n",
       "      <td>-0.008983</td>\n",
       "      <td>0.014724</td>\n",
       "      <td>2.69</td>\n",
       "      <td>1</td>\n",
       "    </tr>\n",
       "    <tr>\n",
       "      <th>2</th>\n",
       "      <td>1</td>\n",
       "      <td>-1.358354</td>\n",
       "      <td>-1.340163</td>\n",
       "      <td>1.773209</td>\n",
       "      <td>0.379780</td>\n",
       "      <td>-0.503198</td>\n",
       "      <td>1.800499</td>\n",
       "      <td>0.791461</td>\n",
       "      <td>0.247676</td>\n",
       "      <td>-1.514654</td>\n",
       "      <td>...</td>\n",
       "      <td>0.247998</td>\n",
       "      <td>0.771679</td>\n",
       "      <td>0.909412</td>\n",
       "      <td>-0.689281</td>\n",
       "      <td>-0.327642</td>\n",
       "      <td>-0.139097</td>\n",
       "      <td>-0.055353</td>\n",
       "      <td>-0.059752</td>\n",
       "      <td>378.66</td>\n",
       "      <td>0</td>\n",
       "    </tr>\n",
       "    <tr>\n",
       "      <th>3</th>\n",
       "      <td>1</td>\n",
       "      <td>-0.966272</td>\n",
       "      <td>-0.185226</td>\n",
       "      <td>1.792993</td>\n",
       "      <td>-0.863291</td>\n",
       "      <td>-0.010309</td>\n",
       "      <td>1.247203</td>\n",
       "      <td>0.237609</td>\n",
       "      <td>0.377436</td>\n",
       "      <td>-1.387024</td>\n",
       "      <td>...</td>\n",
       "      <td>-0.108300</td>\n",
       "      <td>0.005274</td>\n",
       "      <td>-0.190321</td>\n",
       "      <td>-1.175575</td>\n",
       "      <td>0.647376</td>\n",
       "      <td>-0.221929</td>\n",
       "      <td>0.062723</td>\n",
       "      <td>0.061458</td>\n",
       "      <td>123.50</td>\n",
       "      <td>0</td>\n",
       "    </tr>\n",
       "    <tr>\n",
       "      <th>4</th>\n",
       "      <td>2</td>\n",
       "      <td>-1.158233</td>\n",
       "      <td>0.877737</td>\n",
       "      <td>1.548718</td>\n",
       "      <td>0.403034</td>\n",
       "      <td>-0.407193</td>\n",
       "      <td>0.095921</td>\n",
       "      <td>0.592941</td>\n",
       "      <td>-0.270533</td>\n",
       "      <td>0.817739</td>\n",
       "      <td>...</td>\n",
       "      <td>-0.009431</td>\n",
       "      <td>0.798278</td>\n",
       "      <td>-0.137458</td>\n",
       "      <td>0.141267</td>\n",
       "      <td>-0.206010</td>\n",
       "      <td>0.502292</td>\n",
       "      <td>0.219422</td>\n",
       "      <td>0.215153</td>\n",
       "      <td>69.99</td>\n",
       "      <td>0</td>\n",
       "    </tr>\n",
       "  </tbody>\n",
       "</table>\n",
       "<p>5 rows × 31 columns</p>\n",
       "</div>"
      ],
      "text/plain": [
       "   Time        V1        V2        V3        V4        V5        V6        V7  \\\n",
       "0     0 -1.359807 -0.072781  2.536347  1.378155 -0.338321  0.462388  0.239599   \n",
       "1     0  1.191857  0.266151  0.166480  0.448154  0.060018 -0.082361 -0.078803   \n",
       "2     1 -1.358354 -1.340163  1.773209  0.379780 -0.503198  1.800499  0.791461   \n",
       "3     1 -0.966272 -0.185226  1.792993 -0.863291 -0.010309  1.247203  0.237609   \n",
       "4     2 -1.158233  0.877737  1.548718  0.403034 -0.407193  0.095921  0.592941   \n",
       "\n",
       "         V8        V9  ...       V21       V22       V23       V24       V25  \\\n",
       "0  0.098698  0.363787  ... -0.018307  0.277838 -0.110474  0.066928  0.128539   \n",
       "1  0.085102 -0.255425  ... -0.225775 -0.638672  0.101288 -0.339846  0.167170   \n",
       "2  0.247676 -1.514654  ...  0.247998  0.771679  0.909412 -0.689281 -0.327642   \n",
       "3  0.377436 -1.387024  ... -0.108300  0.005274 -0.190321 -1.175575  0.647376   \n",
       "4 -0.270533  0.817739  ... -0.009431  0.798278 -0.137458  0.141267 -0.206010   \n",
       "\n",
       "        V26       V27       V28  Amount  Class  \n",
       "0 -0.189115  0.133558 -0.021053  149.62      0  \n",
       "1  0.125895 -0.008983  0.014724    2.69      1  \n",
       "2 -0.139097 -0.055353 -0.059752  378.66      0  \n",
       "3 -0.221929  0.062723  0.061458  123.50      0  \n",
       "4  0.502292  0.219422  0.215153   69.99      0  \n",
       "\n",
       "[5 rows x 31 columns]"
      ]
     },
     "metadata": {},
     "output_type": "display_data"
    }
   ],
   "source": [
    "df = pd.read_csv(\"Creditcard_data.csv\")\n",
    "display(df.head())"
   ]
  },
  {
   "cell_type": "code",
   "execution_count": 16,
   "metadata": {},
   "outputs": [
    {
     "data": {
      "text/plain": [
       "0    763\n",
       "1      9\n",
       "Name: Class, dtype: int64"
      ]
     },
     "metadata": {},
     "output_type": "display_data"
    }
   ],
   "source": [
    "display(df['Class'].value_counts()) # highly imbalanced, 0: 763, 1: 9"
   ]
  },
  {
   "cell_type": "code",
   "execution_count": 17,
   "metadata": {},
   "outputs": [],
   "source": [
    "x = df.iloc[:, :30]\n",
    "y = df['Class']"
   ]
  },
  {
   "cell_type": "code",
   "execution_count": 18,
   "metadata": {},
   "outputs": [],
   "source": [
    "# Random Under Sampling\n",
    "from imblearn.under_sampling import RandomUnderSampler\n",
    "\n",
    "def get_rus(x, y):\n",
    "    rus = RandomUnderSampler(random_state=42, replacement=True)\n",
    "    x_rus, y_rus = rus.fit_resample(x, y)\n",
    "    return x_rus, y_rus"
   ]
  },
  {
   "cell_type": "code",
   "execution_count": 19,
   "metadata": {},
   "outputs": [],
   "source": [
    "# Random Over Sampling\n",
    "from imblearn.over_sampling import RandomOverSampler\n",
    "\n",
    "def get_ros(x, y):\n",
    "    ros = RandomOverSampler(random_state=42)\n",
    "    x_ros, y_ros = ros.fit_resample(x, y)\n",
    "    return x_ros, y_ros"
   ]
  },
  {
   "cell_type": "code",
   "execution_count": 20,
   "metadata": {},
   "outputs": [],
   "source": [
    "# SMOTE: Synthetic Minority Oversampling Technique\n",
    "from imblearn.over_sampling import SMOTE\n",
    "\n",
    "def get_smote(x, y):\n",
    "    smote = SMOTE()\n",
    "    x_smote, y_smote = smote.fit_resample(x, y)\n",
    "    return x_smote, y_smote"
   ]
  },
  {
   "attachments": {},
   "cell_type": "markdown",
   "metadata": {},
   "source": [
    "##### Random under sampling on SVC, Log Reg, Decision Tree, Naive Bayes, KNN"
   ]
  },
  {
   "cell_type": "code",
   "execution_count": 21,
   "metadata": {},
   "outputs": [
    {
     "name": "stdout",
     "output_type": "stream",
     "text": [
      "SVC:\n",
      "0.5\n",
      "LR:\n",
      "0.5\n",
      "DT:\n",
      "0.75\n",
      "GNB:\n",
      "0.5\n",
      "KNN:\n",
      "0.75\n"
     ]
    }
   ],
   "source": [
    "X, Y = get_rus(x, y)\n",
    "X_train, X_test, y_train, y_test = train_test_split(X, Y, test_size=0.2)\n",
    "# print(X_train.shape)\n",
    "# print(X_test.shape)\n",
    "# print(y_train.shape)\n",
    "# print(y_test.shape)\n",
    "\n",
    "print(\"SVC:\")\n",
    "svc_clf = SVC()\n",
    "svc_clf.fit(X_train, y_train)\n",
    "ypred = svc_clf.predict(X_test)\n",
    "print(accuracy_score(y_test, ypred))\n",
    "\n",
    "\n",
    "print(\"LR:\")\n",
    "lr_clf = LogisticRegression()\n",
    "lr_clf.fit(X_train, y_train)\n",
    "ypred2 = lr_clf.predict(X_test)\n",
    "print(accuracy_score(y_test, ypred2))\n",
    "\n",
    "print(\"DT:\")\n",
    "dt_clf = DecisionTreeClassifier()\n",
    "dt_clf.fit(X_train, y_train)\n",
    "ypred3 = dt_clf.predict(X_test)\n",
    "print(accuracy_score(y_test, ypred3))\n",
    "\n",
    "print(\"GNB:\")\n",
    "gnb_clf = GaussianNB()\n",
    "gnb_clf.fit(X_train, y_train)\n",
    "ypred4 = gnb_clf.predict(X_test)\n",
    "print(accuracy_score(y_test, ypred4))\n",
    "\n",
    "print(\"KNN:\")\n",
    "knn_clf = KNeighborsClassifier(n_neighbors=5)\n",
    "knn_clf.fit(X_train, y_train)\n",
    "ypred5 = knn_clf.predict(X_test)\n",
    "print(accuracy_score(y_test, ypred5))"
   ]
  },
  {
   "attachments": {},
   "cell_type": "markdown",
   "metadata": {},
   "source": [
    "##### Random over sampling on SVC, Log Reg, Decision Tree, Naive Bayes, KNN"
   ]
  },
  {
   "cell_type": "code",
   "execution_count": 22,
   "metadata": {},
   "outputs": [
    {
     "name": "stdout",
     "output_type": "stream",
     "text": [
      "SVC:\n",
      "0.7124183006535948\n",
      "LR:\n",
      "0.934640522875817\n",
      "DT:\n",
      "1.0\n",
      "GNB:\n",
      "0.7483660130718954\n",
      "KNN:\n",
      "0.9738562091503268\n"
     ]
    }
   ],
   "source": [
    "X, Y = get_ros(x, y)\n",
    "X_train, X_test, y_train, y_test = train_test_split(X, Y, test_size=0.2)\n",
    "# print(X_train.shape)\n",
    "# print(X_test.shape)\n",
    "# print(y_train.shape)\n",
    "# print(y_test.shape)\n",
    "\n",
    "print(\"SVC:\")\n",
    "svc_clf = SVC()\n",
    "svc_clf.fit(X_train, y_train)\n",
    "ypred = svc_clf.predict(X_test)\n",
    "print(accuracy_score(y_test, ypred))\n",
    "\n",
    "\n",
    "print(\"LR:\")\n",
    "lr_clf = LogisticRegression()\n",
    "lr_clf.fit(X_train, y_train)\n",
    "ypred2 = lr_clf.predict(X_test)\n",
    "print(accuracy_score(y_test, ypred2))\n",
    "\n",
    "print(\"DT:\")\n",
    "dt_clf = DecisionTreeClassifier()\n",
    "dt_clf.fit(X_train, y_train)\n",
    "ypred3 = dt_clf.predict(X_test)\n",
    "print(accuracy_score(y_test, ypred3))\n",
    "\n",
    "print(\"GNB:\")\n",
    "gnb_clf = GaussianNB()\n",
    "gnb_clf.fit(X_train, y_train)\n",
    "ypred4 = gnb_clf.predict(X_test)\n",
    "print(accuracy_score(y_test, ypred4))\n",
    "\n",
    "print(\"KNN:\")\n",
    "knn_clf = KNeighborsClassifier(n_neighbors=5)\n",
    "knn_clf.fit(X_train, y_train)\n",
    "ypred5 = knn_clf.predict(X_test)\n",
    "print(accuracy_score(y_test, ypred5))"
   ]
  },
  {
   "attachments": {},
   "cell_type": "markdown",
   "metadata": {},
   "source": [
    "##### SMOTE on SVC, Log Reg, Decision Tree, Naive Bayes, KNN"
   ]
  },
  {
   "cell_type": "code",
   "execution_count": 23,
   "metadata": {},
   "outputs": [
    {
     "name": "stdout",
     "output_type": "stream",
     "text": [
      "SVC:\n",
      "0.6797385620915033\n",
      "LR:\n",
      "0.9150326797385621\n",
      "DT:\n",
      "0.9771241830065359\n",
      "GNB:\n",
      "0.7810457516339869\n",
      "KNN:\n",
      "0.8366013071895425\n"
     ]
    }
   ],
   "source": [
    "X, Y = get_smote(x, y)\n",
    "\n",
    "X_train, X_test, y_train, y_test = train_test_split(X, Y, test_size=0.2)\n",
    "# print(X_train.shape)\n",
    "# print(X_test.shape)\n",
    "# print(y_train.shape)\n",
    "# print(y_test.shape)\n",
    "\n",
    "print(\"SVC:\")\n",
    "svc_clf = SVC()\n",
    "svc_clf.fit(X_train, y_train)\n",
    "ypred = svc_clf.predict(X_test)\n",
    "print(accuracy_score(y_test, ypred))\n",
    "\n",
    "\n",
    "print(\"LR:\")\n",
    "lr_clf = LogisticRegression()\n",
    "lr_clf.fit(X_train, y_train)\n",
    "ypred2 = lr_clf.predict(X_test)\n",
    "print(accuracy_score(y_test, ypred2))\n",
    "\n",
    "print(\"DT:\")\n",
    "dt_clf = DecisionTreeClassifier()\n",
    "dt_clf.fit(X_train, y_train)\n",
    "ypred3 = dt_clf.predict(X_test)\n",
    "print(accuracy_score(y_test, ypred3))\n",
    "\n",
    "print(\"GNB:\")\n",
    "gnb_clf = GaussianNB()\n",
    "gnb_clf.fit(X_train, y_train)\n",
    "ypred4 = gnb_clf.predict(X_test)\n",
    "print(accuracy_score(y_test, ypred4))\n",
    "\n",
    "print(\"KNN:\")\n",
    "knn_clf = KNeighborsClassifier(n_neighbors=5)\n",
    "knn_clf.fit(X_train, y_train)\n",
    "ypred5 = knn_clf.predict(X_test)\n",
    "print(accuracy_score(y_test, ypred5))"
   ]
  },
  {
   "cell_type": "code",
   "execution_count": null,
   "metadata": {},
   "outputs": [],
   "source": []
  },
  {
   "cell_type": "code",
   "execution_count": null,
   "metadata": {},
   "outputs": [],
   "source": []
  },
  {
   "attachments": {},
   "cell_type": "markdown",
   "metadata": {},
   "source": [
    "#### Sampling Techniques"
   ]
  },
  {
   "cell_type": "code",
   "execution_count": 50,
   "metadata": {},
   "outputs": [],
   "source": [
    "X, Y = get_ros(x, y)\n",
    "newdf = pd.concat([X, Y], axis=1)"
   ]
  },
  {
   "cell_type": "code",
   "execution_count": 52,
   "metadata": {},
   "outputs": [
    {
     "data": {
      "text/plain": [
       "0    763\n",
       "1    763\n",
       "Name: Class, dtype: int64"
      ]
     },
     "metadata": {},
     "output_type": "display_data"
    }
   ],
   "source": [
    "display(newdf['Class'].value_counts())"
   ]
  },
  {
   "cell_type": "code",
   "execution_count": 85,
   "metadata": {},
   "outputs": [],
   "source": [
    "def SimpleRandom(df,z,e):\n",
    "    z = st.norm.ppf(z)\n",
    "    n = (z**2)*(0.25)//e**2 # p*(1-p): p=0.5\n",
    "    rand_sample = df.sample(int(n))\n",
    "    return rand_sample"
   ]
  },
  {
   "cell_type": "code",
   "execution_count": 84,
   "metadata": {},
   "outputs": [],
   "source": [
    "def StratifiedSampling(df,z,e):\n",
    "    s = len(dict(df['Class'].value_counts()))\n",
    "    z = st.norm.ppf(z)\n",
    "    n = (z**2)*(0.25)//((e/s)**2) # p*(1-p): p=0.5\n",
    "    rows = df.shape[0]\n",
    "    strat_sam = df.groupby('Class', group_keys=False).apply(lambda x: x.sample(frac=n/rows, replace=True))\n",
    "    return strat_sam"
   ]
  },
  {
   "cell_type": "code",
   "execution_count": 83,
   "metadata": {},
   "outputs": [],
   "source": [
    "def ClusterSampling(df,z,e,c):\n",
    "    z = st.norm.ppf(z)\n",
    "    rows = df.shape[0]\n",
    "    n = ((z**2)*(0.25))/((e)**2)/(rows - c) # p*(1-p): p=0.5\n",
    "    clust = df.sample(frac=n)\n",
    "    return clust\n",
    "    "
   ]
  },
  {
   "cell_type": "code",
   "execution_count": 78,
   "metadata": {},
   "outputs": [],
   "source": [
    "def SystematicSampling(df):\n",
    "    k = int(np.sqrt(len(df)))\n",
    "    indexes = np.arange(0, len(df), step=k)\n",
    "    systematic_sample = df.iloc[indexes]\n",
    "    return systematic_sample"
   ]
  },
  {
   "cell_type": "code",
   "execution_count": 102,
   "metadata": {},
   "outputs": [],
   "source": [
    "def ConvenienceSampling(df,amt):\n",
    "    return df[df['Amount']<=amt]"
   ]
  },
  {
   "cell_type": "code",
   "execution_count": 133,
   "metadata": {},
   "outputs": [],
   "source": [
    "s1 = SimpleRandom(newdf, 0.95, 0.05)\n",
    "s2 = SystematicSampling(newdf)\n",
    "s3 = StratifiedSampling(newdf,0.95,0.05)\n",
    "s4 = ClusterSampling(newdf,0.95,0.05,300)\n",
    "s5 = ConvenienceSampling(newdf,6)"
   ]
  },
  {
   "cell_type": "code",
   "execution_count": 134,
   "metadata": {},
   "outputs": [],
   "source": [
    "samples = []\n",
    "samples.append(s1)\n",
    "samples.append(s2)\n",
    "samples.append(s3)\n",
    "samples.append(s4)\n",
    "samples.append(s5)"
   ]
  },
  {
   "cell_type": "code",
   "execution_count": 135,
   "metadata": {},
   "outputs": [
    {
     "name": "stdout",
     "output_type": "stream",
     "text": [
      "1    135\n",
      "0    135\n",
      "Name: Class, dtype: int64\n",
      "0    20\n",
      "1    20\n",
      "Name: Class, dtype: int64\n",
      "0    541\n",
      "1    541\n",
      "Name: Class, dtype: int64\n",
      "0    172\n",
      "1    165\n",
      "Name: Class, dtype: int64\n",
      "1    670\n",
      "0    191\n",
      "Name: Class, dtype: int64\n"
     ]
    }
   ],
   "source": [
    "for sample in samples:\n",
    "    print(sample['Class'].value_counts())"
   ]
  },
  {
   "cell_type": "code",
   "execution_count": 136,
   "metadata": {},
   "outputs": [],
   "source": [
    "x_test = np.array(df.iloc[:,:-1])\n",
    "y_test = np.array(df.iloc[:,-1:].values).reshape(-1,).astype('int')"
   ]
  },
  {
   "cell_type": "code",
   "execution_count": 137,
   "metadata": {},
   "outputs": [
    {
     "name": "stdout",
     "output_type": "stream",
     "text": [
      "0.8303108808290155\n",
      "0.8419689119170984\n",
      "0.8523316062176166\n",
      "0.8393782383419689\n",
      "0.927461139896373\n"
     ]
    }
   ],
   "source": [
    "# Logistic Regression\n",
    "\n",
    "log_acc = []\n",
    "for sample in samples:\n",
    "    clf1 = LogisticRegression()\n",
    "    x_train = np.array(sample.iloc[:,:-1])\n",
    "    y_train = np.array(sample.iloc[:,-1:].values).reshape(-1)\n",
    "    # display(pd.DataFrame(x_train))\n",
    "    # display(y_train)\n",
    "\n",
    "    clf1.fit(x_train, y_train)\n",
    "    yhat = clf1.predict(x_test)\n",
    "    acc = accuracy_score(y_test, yhat)\n",
    "    log_acc.append(acc)\n",
    "    print(acc)\n",
    "\n"
   ]
  },
  {
   "cell_type": "code",
   "execution_count": 138,
   "metadata": {},
   "outputs": [
    {
     "name": "stdout",
     "output_type": "stream",
     "text": [
      "0.8782383419689119\n",
      "0.6968911917098446\n",
      "0.9481865284974094\n",
      "0.9015544041450777\n",
      "0.9559585492227979\n"
     ]
    }
   ],
   "source": [
    "# KNN\n",
    "\n",
    "knn_acc = []\n",
    "for sample in samples:\n",
    "    clf2 = KNeighborsClassifier()\n",
    "    x_train = np.array(sample.iloc[:,:-1])\n",
    "    y_train = np.array(sample.iloc[:,-1:].values).reshape(-1)\n",
    "    clf2.fit(x_train, y_train)\n",
    "    yhat2 = clf2.predict(x_test)\n",
    "    acc = accuracy_score(y_test, yhat2)\n",
    "    knn_acc.append(acc)\n",
    "    print(acc)"
   ]
  },
  {
   "cell_type": "code",
   "execution_count": 139,
   "metadata": {},
   "outputs": [
    {
     "name": "stdout",
     "output_type": "stream",
     "text": [
      "0.8018134715025906\n",
      "0.7901554404145078\n",
      "0.7189119170984456\n",
      "0.9093264248704663\n",
      "0.9106217616580311\n"
     ]
    }
   ],
   "source": [
    "# Gaussian NB\n",
    "\n",
    "nb_acc = []\n",
    "for sample in samples:\n",
    "    clf3 = GaussianNB()\n",
    "    x_train = np.array(sample.iloc[:,:-1])\n",
    "    y_train = np.array(sample.iloc[:,-1:].values).reshape(-1)\n",
    "    clf3.fit(x_train, y_train)\n",
    "    yhat3 = clf3.predict(x_test)\n",
    "    acc = accuracy_score(y_test, yhat3)\n",
    "    nb_acc.append(acc)\n",
    "    print(acc)"
   ]
  },
  {
   "cell_type": "code",
   "execution_count": 140,
   "metadata": {},
   "outputs": [
    {
     "name": "stdout",
     "output_type": "stream",
     "text": [
      "0.6722797927461139\n",
      "0.7396373056994818\n",
      "0.7202072538860104\n",
      "0.6839378238341969\n",
      "0.011658031088082901\n"
     ]
    }
   ],
   "source": [
    "# SVC\n",
    "\n",
    "svc_acc = []\n",
    "for sample in samples:\n",
    "    clf4 = SVC()\n",
    "    x_train = np.array(sample.iloc[:,:-1])\n",
    "    y_train = np.array(sample.iloc[:,-1:].values).reshape(-1)\n",
    "    clf4.fit(x_train, y_train)\n",
    "    yhat4 = clf4.predict(x_test)\n",
    "    acc = accuracy_score(y_test, yhat4)\n",
    "    svc_acc.append(acc)\n",
    "    print(acc)"
   ]
  },
  {
   "cell_type": "code",
   "execution_count": 141,
   "metadata": {},
   "outputs": [
    {
     "name": "stdout",
     "output_type": "stream",
     "text": [
      "0.9572538860103627\n",
      "0.8678756476683938\n",
      "0.9857512953367875\n",
      "0.9844559585492227\n",
      "0.9987046632124352\n"
     ]
    }
   ],
   "source": [
    "# DT\n",
    "\n",
    "dt_acc = []\n",
    "for sample in samples:\n",
    "    clf5 = DecisionTreeClassifier()\n",
    "    x_train = np.array(sample.iloc[:,:-1])\n",
    "    y_train = np.array(sample.iloc[:,-1:].values).reshape(-1)\n",
    "    clf5.fit(x_train, y_train)\n",
    "    yhat5 = clf5.predict(x_test)\n",
    "    acc = accuracy_score(y_test, yhat5)\n",
    "    dt_acc.append(acc)\n",
    "    print(acc)"
   ]
  },
  {
   "cell_type": "code",
   "execution_count": 145,
   "metadata": {},
   "outputs": [],
   "source": [
    "output = pd.DataFrame()\n",
    "output['Log Reg'] = log_acc\n",
    "output['SVC'] = svc_acc\n",
    "output['KNN'] = knn_acc\n",
    "output['Decision Tree'] = dt_acc\n",
    "output['Gaussian Naive bayes'] = nb_acc\n",
    "output = output.rename(index = {0:'Simple Random Sampling',1:'Systematic sampling',2:'Sratified Sampling',3:'Cluster Sampling',4:'Convenience Sampling'}).T"
   ]
  },
  {
   "cell_type": "code",
   "execution_count": 146,
   "metadata": {},
   "outputs": [
    {
     "data": {
      "text/html": [
       "<div>\n",
       "<style scoped>\n",
       "    .dataframe tbody tr th:only-of-type {\n",
       "        vertical-align: middle;\n",
       "    }\n",
       "\n",
       "    .dataframe tbody tr th {\n",
       "        vertical-align: top;\n",
       "    }\n",
       "\n",
       "    .dataframe thead th {\n",
       "        text-align: right;\n",
       "    }\n",
       "</style>\n",
       "<table border=\"1\" class=\"dataframe\">\n",
       "  <thead>\n",
       "    <tr style=\"text-align: right;\">\n",
       "      <th></th>\n",
       "      <th>Simple Random Sampling</th>\n",
       "      <th>Systematic sampling</th>\n",
       "      <th>Sratified Sampling</th>\n",
       "      <th>Cluster Sampling</th>\n",
       "      <th>Convenience Sampling</th>\n",
       "    </tr>\n",
       "  </thead>\n",
       "  <tbody>\n",
       "    <tr>\n",
       "      <th>Log Reg</th>\n",
       "      <td>0.830311</td>\n",
       "      <td>0.841969</td>\n",
       "      <td>0.852332</td>\n",
       "      <td>0.839378</td>\n",
       "      <td>0.927461</td>\n",
       "    </tr>\n",
       "    <tr>\n",
       "      <th>SVC</th>\n",
       "      <td>0.672280</td>\n",
       "      <td>0.739637</td>\n",
       "      <td>0.720207</td>\n",
       "      <td>0.683938</td>\n",
       "      <td>0.011658</td>\n",
       "    </tr>\n",
       "    <tr>\n",
       "      <th>KNN</th>\n",
       "      <td>0.878238</td>\n",
       "      <td>0.696891</td>\n",
       "      <td>0.948187</td>\n",
       "      <td>0.901554</td>\n",
       "      <td>0.955959</td>\n",
       "    </tr>\n",
       "    <tr>\n",
       "      <th>Decision Tree</th>\n",
       "      <td>0.957254</td>\n",
       "      <td>0.867876</td>\n",
       "      <td>0.985751</td>\n",
       "      <td>0.984456</td>\n",
       "      <td>0.998705</td>\n",
       "    </tr>\n",
       "    <tr>\n",
       "      <th>Gaussian Naive bayes</th>\n",
       "      <td>0.801813</td>\n",
       "      <td>0.790155</td>\n",
       "      <td>0.718912</td>\n",
       "      <td>0.909326</td>\n",
       "      <td>0.910622</td>\n",
       "    </tr>\n",
       "  </tbody>\n",
       "</table>\n",
       "</div>"
      ],
      "text/plain": [
       "                      Simple Random Sampling  Systematic sampling  \\\n",
       "Log Reg                             0.830311             0.841969   \n",
       "SVC                                 0.672280             0.739637   \n",
       "KNN                                 0.878238             0.696891   \n",
       "Decision Tree                       0.957254             0.867876   \n",
       "Gaussian Naive bayes                0.801813             0.790155   \n",
       "\n",
       "                      Sratified Sampling  Cluster Sampling  \\\n",
       "Log Reg                         0.852332          0.839378   \n",
       "SVC                             0.720207          0.683938   \n",
       "KNN                             0.948187          0.901554   \n",
       "Decision Tree                   0.985751          0.984456   \n",
       "Gaussian Naive bayes            0.718912          0.909326   \n",
       "\n",
       "                      Convenience Sampling  \n",
       "Log Reg                           0.927461  \n",
       "SVC                               0.011658  \n",
       "KNN                               0.955959  \n",
       "Decision Tree                     0.998705  \n",
       "Gaussian Naive bayes              0.910622  "
      ]
     },
     "execution_count": 146,
     "metadata": {},
     "output_type": "execute_result"
    }
   ],
   "source": [
    "output"
   ]
  }
 ],
 "metadata": {
  "kernelspec": {
   "display_name": "Python 3",
   "language": "python",
   "name": "python3"
  },
  "language_info": {
   "codemirror_mode": {
    "name": "ipython",
    "version": 3
   },
   "file_extension": ".py",
   "mimetype": "text/x-python",
   "name": "python",
   "nbconvert_exporter": "python",
   "pygments_lexer": "ipython3",
   "version": "3.10.6"
  },
  "orig_nbformat": 4,
  "vscode": {
   "interpreter": {
    "hash": "31f2aee4e71d21fbe5cf8b01ff0e069b9275f58929596ceb00d14d90e3e16cd6"
   }
  }
 },
 "nbformat": 4,
 "nbformat_minor": 2
}
